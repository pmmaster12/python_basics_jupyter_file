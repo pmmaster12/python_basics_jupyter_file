{
 "cells": [
  {
   "cell_type": "code",
   "execution_count": 1,
   "id": "1b791780",
   "metadata": {},
   "outputs": [],
   "source": [
    "p=(1,2,[13,3])"
   ]
  },
  {
   "cell_type": "code",
   "execution_count": 2,
   "id": "7dd77090",
   "metadata": {},
   "outputs": [
    {
     "data": {
      "text/plain": [
       "(1, 2, [13, 3])"
      ]
     },
     "execution_count": 2,
     "metadata": {},
     "output_type": "execute_result"
    }
   ],
   "source": [
    "p"
   ]
  },
  {
   "cell_type": "code",
   "execution_count": 3,
   "id": "de0ec159",
   "metadata": {},
   "outputs": [
    {
     "ename": "TypeError",
     "evalue": "'tuple' object does not support item assignment",
     "output_type": "error",
     "traceback": [
      "\u001b[1;31m---------------------------------------------------------------------------\u001b[0m",
      "\u001b[1;31mTypeError\u001b[0m                                 Traceback (most recent call last)",
      "Cell \u001b[1;32mIn[3], line 1\u001b[0m\n\u001b[1;32m----> 1\u001b[0m \u001b[43mp\u001b[49m\u001b[43m[\u001b[49m\u001b[38;5;241;43m0\u001b[39;49m\u001b[43m]\u001b[49m\u001b[38;5;241m=\u001b[39m\u001b[38;5;241m3\u001b[39m\n",
      "\u001b[1;31mTypeError\u001b[0m: 'tuple' object does not support item assignment"
     ]
    }
   ],
   "source": [
    "p[0]=3"
   ]
  },
  {
   "cell_type": "code",
   "execution_count": 4,
   "id": "15379de2",
   "metadata": {},
   "outputs": [
    {
     "data": {
      "text/plain": [
       "[9, 3, 2]"
      ]
     },
     "execution_count": 4,
     "metadata": {},
     "output_type": "execute_result"
    }
   ],
   "source": [
    "l=[1,3,2]\n",
    "l[0]=9\n",
    "l"
   ]
  },
  {
   "cell_type": "code",
   "execution_count": 5,
   "id": "78556eff",
   "metadata": {},
   "outputs": [
    {
     "ename": "NameError",
     "evalue": "name 'reverse' is not defined",
     "output_type": "error",
     "traceback": [
      "\u001b[1;31m---------------------------------------------------------------------------\u001b[0m",
      "\u001b[1;31mNameError\u001b[0m                                 Traceback (most recent call last)",
      "Cell \u001b[1;32mIn[5], line 1\u001b[0m\n\u001b[1;32m----> 1\u001b[0m \u001b[43mreverse\u001b[49m(p)\n",
      "\u001b[1;31mNameError\u001b[0m: name 'reverse' is not defined"
     ]
    }
   ],
   "source": [
    "reverse(p)"
   ]
  },
  {
   "cell_type": "code",
   "execution_count": 6,
   "id": "7b9f09c1",
   "metadata": {},
   "outputs": [
    {
     "data": {
      "text/plain": [
       "[1, 2, [13, 3]]"
      ]
     },
     "execution_count": 6,
     "metadata": {},
     "output_type": "execute_result"
    }
   ],
   "source": [
    "list(p)"
   ]
  },
  {
   "cell_type": "code",
   "execution_count": 7,
   "id": "a517d2e9",
   "metadata": {},
   "outputs": [
    {
     "data": {
      "text/plain": [
       "dict"
      ]
     },
     "execution_count": 7,
     "metadata": {},
     "output_type": "execute_result"
    }
   ],
   "source": [
    "d={}\n",
    "type(d)"
   ]
  },
  {
   "cell_type": "code",
   "execution_count": 8,
   "id": "4eaa2c3f",
   "metadata": {},
   "outputs": [
    {
     "ename": "TypeError",
     "evalue": "unhashable type: 'list'",
     "output_type": "error",
     "traceback": [
      "\u001b[1;31m---------------------------------------------------------------------------\u001b[0m",
      "\u001b[1;31mTypeError\u001b[0m                                 Traceback (most recent call last)",
      "Cell \u001b[1;32mIn[8], line 1\u001b[0m\n\u001b[1;32m----> 1\u001b[0m d\u001b[38;5;241m=\u001b[39m{\u001b[38;5;241m1\u001b[39m,\u001b[38;5;241m2323\u001b[39m,[\u001b[38;5;241m2324\u001b[39m,\u001b[38;5;241m4\u001b[39m]}\n",
      "\u001b[1;31mTypeError\u001b[0m: unhashable type: 'list'"
     ]
    }
   ],
   "source": [
    "d={1,2323,[2324,4]}"
   ]
  },
  {
   "cell_type": "code",
   "execution_count": 9,
   "id": "8678699b",
   "metadata": {},
   "outputs": [
    {
     "data": {
      "text/plain": [
       "{1, 2, 222, 22424, 'ggfgg'}"
      ]
     },
     "execution_count": 9,
     "metadata": {},
     "output_type": "execute_result"
    }
   ],
   "source": [
    "d={1,22424,\"ggfgg\",2,222}\n",
    "d"
   ]
  },
  {
   "cell_type": "code",
   "execution_count": 20,
   "id": "4f93256b",
   "metadata": {},
   "outputs": [
    {
     "data": {
      "text/plain": [
       "2244"
      ]
     },
     "execution_count": 20,
     "metadata": {},
     "output_type": "execute_result"
    }
   ],
   "source": [
    "d={'key':224,\"key\":2244}\n",
    "d['key']"
   ]
  },
  {
   "cell_type": "code",
   "execution_count": 11,
   "id": "3759fe8f",
   "metadata": {},
   "outputs": [
    {
     "ename": "SyntaxError",
     "evalue": "invalid syntax (4967722.py, line 1)",
     "output_type": "error",
     "traceback": [
      "\u001b[1;36m  Cell \u001b[1;32mIn[11], line 1\u001b[1;36m\u001b[0m\n\u001b[1;33m    d={$%%:34}\u001b[0m\n\u001b[1;37m       ^\u001b[0m\n\u001b[1;31mSyntaxError\u001b[0m\u001b[1;31m:\u001b[0m invalid syntax\n"
     ]
    }
   ],
   "source": [
    "d={$%%:34}"
   ]
  },
  {
   "cell_type": "code",
   "execution_count": 12,
   "id": "e0f99ace",
   "metadata": {},
   "outputs": [],
   "source": [
    "d={True:234}"
   ]
  },
  {
   "cell_type": "code",
   "execution_count": 13,
   "id": "4c5ebb51",
   "metadata": {},
   "outputs": [
    {
     "data": {
      "text/plain": [
       "{True: 234}"
      ]
     },
     "execution_count": 13,
     "metadata": {},
     "output_type": "execute_result"
    }
   ],
   "source": [
    "d"
   ]
  },
  {
   "cell_type": "code",
   "execution_count": 14,
   "id": "05469d24",
   "metadata": {},
   "outputs": [
    {
     "data": {
      "text/plain": [
       "234"
      ]
     },
     "execution_count": 14,
     "metadata": {},
     "output_type": "execute_result"
    }
   ],
   "source": [
    "d[True]"
   ]
  },
  {
   "cell_type": "code",
   "execution_count": 15,
   "id": "89b5e370",
   "metadata": {},
   "outputs": [
    {
     "data": {
      "text/plain": [
       "234"
      ]
     },
     "execution_count": 15,
     "metadata": {},
     "output_type": "execute_result"
    }
   ],
   "source": [
    " d[1]"
   ]
  },
  {
   "cell_type": "code",
   "execution_count": 16,
   "id": "591ef21a",
   "metadata": {},
   "outputs": [
    {
     "ename": "SyntaxError",
     "evalue": "invalid syntax (3460498982.py, line 1)",
     "output_type": "error",
     "traceback": [
      "\u001b[1;36m  Cell \u001b[1;32mIn[16], line 1\u001b[1;36m\u001b[0m\n\u001b[1;33m    d[0]|\u001b[0m\n\u001b[1;37m         ^\u001b[0m\n\u001b[1;31mSyntaxError\u001b[0m\u001b[1;31m:\u001b[0m invalid syntax\n"
     ]
    }
   ],
   "source": [
    "d[0]|"
   ]
  },
  {
   "cell_type": "code",
   "execution_count": 17,
   "id": "1f370d82",
   "metadata": {},
   "outputs": [],
   "source": [
    "d4={'a':[1],'b':(2),'c':{12,23},'d':{2424:\"tarun\"}}"
   ]
  },
  {
   "cell_type": "code",
   "execution_count": 21,
   "id": "21b9abd2",
   "metadata": {},
   "outputs": [
    {
     "data": {
      "text/plain": [
       "{2424: 'tarun'}"
      ]
     },
     "execution_count": 21,
     "metadata": {},
     "output_type": "execute_result"
    }
   ],
   "source": [
    "d4['d']"
   ]
  },
  {
   "cell_type": "code",
   "execution_count": 22,
   "id": "d7189b0c",
   "metadata": {},
   "outputs": [
    {
     "ename": "KeyError",
     "evalue": "2024",
     "output_type": "error",
     "traceback": [
      "\u001b[1;31m---------------------------------------------------------------------------\u001b[0m",
      "\u001b[1;31mKeyError\u001b[0m                                  Traceback (most recent call last)",
      "Cell \u001b[1;32mIn[22], line 1\u001b[0m\n\u001b[1;32m----> 1\u001b[0m \u001b[43md4\u001b[49m\u001b[43m[\u001b[49m\u001b[38;5;124;43m'\u001b[39;49m\u001b[38;5;124;43md\u001b[39;49m\u001b[38;5;124;43m'\u001b[39;49m\u001b[43m]\u001b[49m\u001b[43m[\u001b[49m\u001b[38;5;241;43m2024\u001b[39;49m\u001b[43m]\u001b[49m\n",
      "\u001b[1;31mKeyError\u001b[0m: 2024"
     ]
    }
   ],
   "source": [
    "d4['d'][2024]"
   ]
  },
  {
   "cell_type": "code",
   "execution_count": 24,
   "id": "4a64f667",
   "metadata": {},
   "outputs": [
    {
     "data": {
      "text/plain": [
       "1"
      ]
     },
     "execution_count": 24,
     "metadata": {},
     "output_type": "execute_result"
    }
   ],
   "source": [
    "d4['a'][0]"
   ]
  },
  {
   "cell_type": "code",
   "execution_count": 26,
   "id": "cdb59981",
   "metadata": {},
   "outputs": [],
   "source": [
    "d4['d'][2424]='adfadfaf'"
   ]
  },
  {
   "cell_type": "code",
   "execution_count": 27,
   "id": "859083cd",
   "metadata": {},
   "outputs": [
    {
     "data": {
      "text/plain": [
       "{'a': [1], 'b': 2, 'c': {12, 23}, 'd': {2424: 'adfadfaf'}}"
      ]
     },
     "execution_count": 27,
     "metadata": {},
     "output_type": "execute_result"
    }
   ],
   "source": [
    "d4"
   ]
  },
  {
   "cell_type": "code",
   "execution_count": 28,
   "id": "b8c8f842",
   "metadata": {},
   "outputs": [],
   "source": [
    "d4['a']=[22123]"
   ]
  },
  {
   "cell_type": "code",
   "execution_count": 29,
   "id": "d27227dd",
   "metadata": {},
   "outputs": [
    {
     "data": {
      "text/plain": [
       "{'a': [22123], 'b': 2, 'c': {12, 23}, 'd': {2424: 'adfadfaf'}}"
      ]
     },
     "execution_count": 29,
     "metadata": {},
     "output_type": "execute_result"
    }
   ],
   "source": [
    "d4"
   ]
  },
  {
   "cell_type": "code",
   "execution_count": 30,
   "id": "ef976d5e",
   "metadata": {},
   "outputs": [],
   "source": [
    "del d4['a']"
   ]
  },
  {
   "cell_type": "code",
   "execution_count": 31,
   "id": "37de1ee7",
   "metadata": {},
   "outputs": [
    {
     "data": {
      "text/plain": [
       "{'b': 2, 'c': {12, 23}, 'd': {2424: 'adfadfaf'}}"
      ]
     },
     "execution_count": 31,
     "metadata": {},
     "output_type": "execute_result"
    }
   ],
   "source": [
    "d4"
   ]
  },
  {
   "cell_type": "code",
   "execution_count": 33,
   "id": "b9fc11f3",
   "metadata": {},
   "outputs": [
    {
     "data": {
      "text/plain": [
       "['b', 'c', 'd']"
      ]
     },
     "execution_count": 33,
     "metadata": {},
     "output_type": "execute_result"
    }
   ],
   "source": [
    "list(d4.keys())"
   ]
  },
  {
   "cell_type": "code",
   "execution_count": 35,
   "id": "82c47486",
   "metadata": {},
   "outputs": [
    {
     "data": {
      "text/plain": [
       "[2, {12, 23}, {2424: 'adfadfaf'}]"
      ]
     },
     "execution_count": 35,
     "metadata": {},
     "output_type": "execute_result"
    }
   ],
   "source": [
    "list(d4.values())"
   ]
  },
  {
   "cell_type": "code",
   "execution_count": 36,
   "id": "992d08e1",
   "metadata": {},
   "outputs": [
    {
     "data": {
      "text/plain": [
       "[('b', 2), ('c', {12, 23}), ('d', {2424: 'adfadfaf'})]"
      ]
     },
     "execution_count": 36,
     "metadata": {},
     "output_type": "execute_result"
    }
   ],
   "source": [
    "list(d4.items())"
   ]
  },
  {
   "cell_type": "code",
   "execution_count": 40,
   "id": "1e5c5092",
   "metadata": {},
   "outputs": [
    {
     "data": {
      "text/plain": [
       "{12, 23}"
      ]
     },
     "execution_count": 40,
     "metadata": {},
     "output_type": "execute_result"
    }
   ],
   "source": [
    "d4.pop('c')"
   ]
  },
  {
   "cell_type": "code",
   "execution_count": 41,
   "id": "94b51cdb",
   "metadata": {},
   "outputs": [
    {
     "data": {
      "text/plain": [
       "{'b': 2, 'd': {2424: 'adfadfaf'}}"
      ]
     },
     "execution_count": 41,
     "metadata": {},
     "output_type": "execute_result"
    }
   ],
   "source": [
    "d4"
   ]
  },
  {
   "cell_type": "code",
   "execution_count": 45,
   "id": "9834504a",
   "metadata": {},
   "outputs": [
    {
     "ename": "AttributeError",
     "evalue": "'dict' object has no attribute 'remove'",
     "output_type": "error",
     "traceback": [
      "\u001b[1;31m---------------------------------------------------------------------------\u001b[0m",
      "\u001b[1;31mAttributeError\u001b[0m                            Traceback (most recent call last)",
      "Cell \u001b[1;32mIn[45], line 1\u001b[0m\n\u001b[1;32m----> 1\u001b[0m \u001b[43md4\u001b[49m\u001b[38;5;241;43m.\u001b[39;49m\u001b[43mremove\u001b[49m(\u001b[38;5;124m'\u001b[39m\u001b[38;5;124mb\u001b[39m\u001b[38;5;124m'\u001b[39m)\n",
      "\u001b[1;31mAttributeError\u001b[0m: 'dict' object has no attribute 'remove'"
     ]
    }
   ],
   "source": [
    "d4.remove('b')"
   ]
  },
  {
   "cell_type": "code",
   "execution_count": 46,
   "id": "3f0ce92f",
   "metadata": {},
   "outputs": [],
   "source": [
    "## if -else statement"
   ]
  },
  {
   "cell_type": "code",
   "execution_count": 63,
   "id": "0424ca42",
   "metadata": {},
   "outputs": [
    {
     "name": "stdout",
     "output_type": "stream",
     "text": [
      "sgsgs\n"
     ]
    }
   ],
   "source": [
    "\n",
    "marks=5\n",
    "if marks >=78:\n",
    "   print('sdgg')\n",
    "elif marks >=56 and marks<=356:\n",
    " print('sdfs')\n",
    "else:\n",
    "    print(\"sgsgs\")"
   ]
  },
  {
   "cell_type": "code",
   "execution_count": 64,
   "id": "0c11a164",
   "metadata": {},
   "outputs": [
    {
     "data": {
      "text/plain": [
       "False"
      ]
     },
     "execution_count": 64,
     "metadata": {},
     "output_type": "execute_result"
    }
   ],
   "source": [
    "10>90"
   ]
  },
  {
   "cell_type": "code",
   "execution_count": 75,
   "id": "049d8b5e",
   "metadata": {},
   "outputs": [
    {
     "name": "stdout",
     "output_type": "stream",
     "text": [
      "enter23\n",
      "sdfs\n"
     ]
    }
   ],
   "source": [
    "marks=int(input('enter'))\n",
    "if marks>1000:\n",
    "    print('sdfsg')\n",
    "    if marks>1223:\n",
    "     print('sfsfsf')\n",
    "if marks >1550:\n",
    " print('saras')\n",
    "else :\n",
    "  print('sdfs')"
   ]
  },
  {
   "cell_type": "code",
   "execution_count": 78,
   "id": "a7b0455d",
   "metadata": {},
   "outputs": [
    {
     "name": "stdout",
     "output_type": "stream",
     "text": [
      "1\n",
      "2\n",
      "3\n",
      "4\n",
      "4\n",
      "5\n",
      "5\n",
      "5\n",
      "5\n"
     ]
    }
   ],
   "source": [
    "l=[1,2,3,4,4,5,5,5,5]\n",
    "for i in l:\n",
    " print(i)"
   ]
  },
  {
   "cell_type": "code",
   "execution_count": 79,
   "id": "ec9c2d12",
   "metadata": {},
   "outputs": [
    {
     "name": "stdout",
     "output_type": "stream",
     "text": [
      "[1, 2, 3, 4, 4, 5, 5, 5, 5]\n",
      "[1, 2, 3, 4, 4, 5, 5, 5, 5]\n",
      "[1, 2, 3, 4, 4, 5, 5, 5, 5]\n",
      "[1, 2, 3, 4, 4, 5, 5, 5, 5]\n",
      "[1, 2, 3, 4, 4, 5, 5, 5, 5]\n",
      "[1, 2, 3, 4, 4, 5, 5, 5, 5]\n",
      "[1, 2, 3, 4, 4, 5, 5, 5, 5]\n",
      "[1, 2, 3, 4, 4, 5, 5, 5, 5]\n",
      "[1, 2, 3, 4, 4, 5, 5, 5, 5]\n"
     ]
    }
   ],
   "source": [
    "for i in l:\n",
    " print(l)"
   ]
  },
  {
   "cell_type": "code",
   "execution_count": 80,
   "id": "448a74e4",
   "metadata": {},
   "outputs": [
    {
     "name": "stdout",
     "output_type": "stream",
     "text": [
      "2\n",
      "3\n",
      "4\n",
      "5\n",
      "5\n",
      "6\n",
      "6\n",
      "6\n",
      "6\n"
     ]
    }
   ],
   "source": [
    "for i in l:\n",
    " print(i+1)"
   ]
  },
  {
   "cell_type": "code",
   "execution_count": 89,
   "id": "cba0e617",
   "metadata": {},
   "outputs": [
    {
     "ename": "TypeError",
     "evalue": "can only concatenate str (not \"int\") to str",
     "output_type": "error",
     "traceback": [
      "\u001b[1;31m---------------------------------------------------------------------------\u001b[0m",
      "\u001b[1;31mTypeError\u001b[0m                                 Traceback (most recent call last)",
      "Cell \u001b[1;32mIn[89], line 3\u001b[0m\n\u001b[0;32m      1\u001b[0m l1\u001b[38;5;241m=\u001b[39m[]\n\u001b[0;32m      2\u001b[0m \u001b[38;5;28;01mfor\u001b[39;00m i \u001b[38;5;129;01min\u001b[39;00m l:\n\u001b[1;32m----> 3\u001b[0m   l1\u001b[38;5;241m.\u001b[39minsert(\u001b[38;5;241m1\u001b[39m,\u001b[43mi\u001b[49m\u001b[38;5;241;43m+\u001b[39;49m\u001b[38;5;241;43m1\u001b[39;49m)\n",
      "\u001b[1;31mTypeError\u001b[0m: can only concatenate str (not \"int\") to str"
     ]
    }
   ],
   "source": [
    "l1=[]\n",
    "for i in l:\n",
    "  "
   ]
  },
  {
   "cell_type": "code",
   "execution_count": 82,
   "id": "78ec07e3",
   "metadata": {},
   "outputs": [
    {
     "data": {
      "text/plain": [
       "[2, 3, 4, 5, 5, 6, 6, 6, 6]"
      ]
     },
     "execution_count": 82,
     "metadata": {},
     "output_type": "execute_result"
    }
   ],
   "source": [
    "l1"
   ]
  },
  {
   "cell_type": "code",
   "execution_count": 83,
   "id": "ceeb220d",
   "metadata": {},
   "outputs": [
    {
     "data": {
      "text/plain": [
       "[1, 2, 3, 4, 4, 5, 5, 5, 5]"
      ]
     },
     "execution_count": 83,
     "metadata": {},
     "output_type": "execute_result"
    }
   ],
   "source": [
    "l"
   ]
  },
  {
   "cell_type": "code",
   "execution_count": 97,
   "id": "2ddcf947",
   "metadata": {},
   "outputs": [],
   "source": [
    "l=[\"asdasa\",\"asdad\",\"eqwrqr\"]"
   ]
  },
  {
   "cell_type": "code",
   "execution_count": 98,
   "id": "f39605f9",
   "metadata": {},
   "outputs": [],
   "source": [
    "l1=[]\n",
    "for i in l:\n",
    "    l1.append(i.upper())"
   ]
  },
  {
   "cell_type": "code",
   "execution_count": 94,
   "id": "28182fd6",
   "metadata": {},
   "outputs": [
    {
     "data": {
      "text/plain": [
       "['ASDASA', 'ASDAD', 'EQWRQR']"
      ]
     },
     "execution_count": 94,
     "metadata": {},
     "output_type": "execute_result"
    }
   ],
   "source": [
    "l1"
   ]
  },
  {
   "cell_type": "code",
   "execution_count": 112,
   "id": "1c7a7caa",
   "metadata": {},
   "outputs": [],
   "source": [
    "l=[\"asdasa\",\"asdad\",\"eqwrqr\",1,2,234334,2342.32]\n",
    "l1=[]\n",
    "l2=[]\n",
    "for i in l:\n",
    " if type(i)==int or type(i)==float:\n",
    "        l1.append(i)\n",
    " elif type(i)==str:\n",
    "    l2.append(i)"
   ]
  },
  {
   "cell_type": "code",
   "execution_count": 113,
   "id": "0b17d7c2",
   "metadata": {},
   "outputs": [
    {
     "data": {
      "text/plain": [
       "['asdasa', 'asdad', 'eqwrqr']"
      ]
     },
     "execution_count": 113,
     "metadata": {},
     "output_type": "execute_result"
    }
   ],
   "source": [
    "\n",
    "l2\n"
   ]
  },
  {
   "cell_type": "code",
   "execution_count": 114,
   "id": "d53d9031",
   "metadata": {},
   "outputs": [
    {
     "data": {
      "text/plain": [
       "[1, 2, 234334, 2342.32]"
      ]
     },
     "execution_count": 114,
     "metadata": {},
     "output_type": "execute_result"
    }
   ],
   "source": [
    "l1"
   ]
  },
  {
   "cell_type": "code",
   "execution_count": null,
   "id": "3eee90bd",
   "metadata": {},
   "outputs": [],
   "source": []
  }
 ],
 "metadata": {
  "kernelspec": {
   "display_name": "Python 3 (ipykernel)",
   "language": "python",
   "name": "python3"
  },
  "language_info": {
   "codemirror_mode": {
    "name": "ipython",
    "version": 3
   },
   "file_extension": ".py",
   "mimetype": "text/x-python",
   "name": "python",
   "nbconvert_exporter": "python",
   "pygments_lexer": "ipython3",
   "version": "3.11.0"
  }
 },
 "nbformat": 4,
 "nbformat_minor": 5
}
